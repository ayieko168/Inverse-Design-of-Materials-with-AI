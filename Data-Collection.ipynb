{
 "cells": [
  {
   "cell_type": "markdown",
   "id": "b2102348-67ad-4bfb-b69c-dc437d023436",
   "metadata": {},
   "source": [
    "## Notes"
   ]
  },
  {
   "cell_type": "markdown",
   "id": "189180f6-95c0-484c-b3a9-92d62f3ada17",
   "metadata": {},
   "source": [
    " - Visit https://www.crystallography.net/cod/ for perusal"
   ]
  },
  {
   "cell_type": "markdown",
   "id": "b802c39a-e119-4948-85ef-a656906d68f6",
   "metadata": {
    "jp-MarkdownHeadingCollapsed": true
   },
   "source": [
    "## Globals and Utilities"
   ]
  },
  {
   "cell_type": "code",
   "execution_count": 161,
   "id": "48e139a6-9d02-4568-9cfe-cb4d48e0577e",
   "metadata": {},
   "outputs": [],
   "source": [
    "## Module Installs\n",
    "# pip install mp_api\n",
    "# pip install python-dotenv\n",
    "# pip install requests\n",
    "# pip install python-slugify"
   ]
  },
  {
   "cell_type": "code",
   "execution_count": 199,
   "id": "3d0c9904-ba8b-4cec-805e-23ce3a08d413",
   "metadata": {},
   "outputs": [
    {
     "data": {
      "text/plain": [
       "True"
      ]
     },
     "execution_count": 199,
     "metadata": {},
     "output_type": "execute_result"
    }
   ],
   "source": [
    "## Import modules\n",
    "import os\n",
    "import io\n",
    "import json\n",
    "import lzma\n",
    "import random\n",
    "import zipfile\n",
    "import requests\n",
    "from tqdm import tqdm\n",
    "from slugify import slugify\n",
    "from mp_api.client import MPRester\n",
    "from emmet.core.summary import HasProps\n",
    "from dotenv import load_dotenv\n",
    "\n",
    "load_dotenv()"
   ]
  },
  {
   "cell_type": "code",
   "execution_count": 170,
   "id": "d3162ae9-5c0a-4784-af99-443a4e16618c",
   "metadata": {},
   "outputs": [],
   "source": [
    "## Variables\n",
    "MPKEY = os.getenv('MPKEY')\n",
    "ROOT_DIR = os.getcwd()\n",
    "TEMP_DIR = os.path.join(ROOT_DIR, 'tmp')"
   ]
  },
  {
   "cell_type": "code",
   "execution_count": 171,
   "id": "2654060f-cd99-49f2-8982-6977a3277be3",
   "metadata": {},
   "outputs": [],
   "source": [
    "if not os.path.exists(TEMP_DIR):\n",
    "    print(\"Not found temp dir, creating one...\")\n",
    "    os.makedirs(TEMP_DIR)"
   ]
  },
  {
   "cell_type": "code",
   "execution_count": 172,
   "id": "0344a048-51a4-4428-b381-6ef79c1c09e9",
   "metadata": {},
   "outputs": [],
   "source": [
    "def pretty_file_size(size_bytes: int) -> str:\n",
    "    units = ['TB', 'GB', 'MB', 'KB', 'B']\n",
    "    for unit in units:\n",
    "        if size_bytes >= 1024 ** (len(units) - units.index(unit)):\n",
    "            return f\"{size_bytes / 1024 ** (len(units) - units.index(unit)):.2f} {unit}\"\n",
    "    return \"0 B\""
   ]
  },
  {
   "cell_type": "code",
   "execution_count": 202,
   "id": "55bf181b-e606-4012-be70-74ec89f5ee2d",
   "metadata": {},
   "outputs": [],
   "source": [
    "def zip_dir(directory_path: str, zip_filename: str = None) -> str:\n",
    "\n",
    "    # Create the zip file in the same parent directory as the zipped dir and name it the same as the source dir if no name is given\n",
    "    parent_dir_path = os.path.dirname(directory_path)\n",
    "    sorce_dir_name = os.path.basename(directory_path)\n",
    "    \n",
    "    if zip_filename is None:\n",
    "        zip_filename = os.path.join(parent_dir_path, f\"{slugify(sorce_dir_name, separator='_')}.zip\")\n",
    "        \n",
    "    # Check if the input is a valid directory\n",
    "    if not os.path.isdir(directory_path):\n",
    "        raise ValueError(f\"'{directory_path}' is not a valid directory.\")\n",
    "\n",
    "    # Create an in-memory buffer for compression\n",
    "    buf = io.BytesIO()\n",
    "    \n",
    "    # Create the zip file and write its contents to it\n",
    "    print(\"Creating the zip file and write its contents to it...\")\n",
    "    with zipfile.ZipFile(buf, 'w') as zip_file:\n",
    "        for root, dirs, files in os.walk(directory_path):\n",
    "            for file in files:\n",
    "                file_path = os.path.join(root, file)\n",
    "                rel_path = os.path.relpath(file_path, directory_path)\n",
    "                zip_file.write(file_path, rel_path)\n",
    "\n",
    "    # Compress the contents of the zip file using LZMA\n",
    "    print(\"Compressing the contents of the zip file using LZMA...\")\n",
    "    compressed_data = lzma.compress(buf.getvalue())\n",
    "\n",
    "    # Save the compressed data to a new .zip file\n",
    "    print(\"Saving the compressed data to a new .zip file\")\n",
    "    with open(zip_filename, 'wb') as f:\n",
    "        f.write(compressed_data)\n",
    "    \n",
    "    return zip_filename"
   ]
  },
  {
   "cell_type": "code",
   "execution_count": 173,
   "id": "e5033dad-aecb-4af9-8a36-81a6073c6157",
   "metadata": {},
   "outputs": [],
   "source": [
    "def unzip(path_to_zip_file: str, directory_to_extract_to: str = None) -> str:\n",
    "\n",
    "    ## Extract to the same directory if a dest9ination is not set:\n",
    "    if directory_to_extract_to is None:\n",
    "        new_dir_name = slugify(os.path.splitext(os.path.basename(path_to_zip_file))[0], separator='_')\n",
    "        directory_to_extract_to = os.path.join(os.path.dirname(path_to_zip_file), new_dir_name)\n",
    "\n",
    "    ## Create the destination path if not exist\n",
    "    if not os.path.exists(directory_to_extract_to):\n",
    "        os.makedirs(directory_to_extract_to)\n",
    "    \n",
    "    with zipfile.ZipFile(path_to_zip_file, 'r') as zip_ref:\n",
    "        zip_ref.extractall(directory_to_extract_to)\n",
    "\n",
    "    print(f\"Finished extracting files to: {directory_to_extract_to}\")\n",
    "    return directory_to_extract_to"
   ]
  },
  {
   "cell_type": "code",
   "execution_count": 174,
   "id": "ff97a1dd-1410-4507-bec9-19976f824518",
   "metadata": {},
   "outputs": [],
   "source": [
    "def download_file(url: str, file_name: str, destination: str = None, overwrite: bool = False) -> str:\n",
    "\n",
    "    ## Slugify the file name\n",
    "    file_name = slugify(file_name, separator='_')\n",
    "    \n",
    "    ## Create the full destinantion path if given\n",
    "    download_path = os.path.join(destination, file_name) if destination else os.path.join(TEMP_DIR, file_name)\n",
    "\n",
    "    ## Verify the destination path exists\n",
    "    if destination is not None:\n",
    "        if (not os.path.exists(destination)) and (os.path.isdir(destination)):\n",
    "            print(f\"Creating download destination directories... [{destination}]\")\n",
    "            os.makedirs(destination)\n",
    "    \n",
    "    with requests.get(url, stream=True) as response:\n",
    "        response.raise_for_status()\n",
    "        total_size = int(response.headers.get('content-length', 0))\n",
    "        downloaded_size = 0\n",
    "        block_size = 8192  # 8 Kilobytes\n",
    "\n",
    "        ## Skip download if file exists of same size and no overwrite flag\n",
    "        if os.path.exists(download_path) and not overwrite:\n",
    "            print(f\"File of the same size as remote file already exists and overwrite is set to False\\nSkipping Download...\")\n",
    "            return download_path\n",
    "        \n",
    "        with open(download_path, 'wb') as file:\n",
    "            for chunk in response.iter_content(chunk_size=block_size):\n",
    "                file.write(chunk)\n",
    "                downloaded_size += len(chunk)\n",
    "                if total_size > 0:\n",
    "                    print(f\"\\rDownloading: {pretty_file_size(downloaded_size)} of {pretty_file_size(total_size)} ({downloaded_size * 100.0 / total_size:.2f}%)\", end='')\n",
    "                else:\n",
    "                    print(f\"\\rDownloading: {pretty_file_size(downloaded_size)} bytes\", end='')\n",
    "\n",
    "    print(f\"\\nFinished downloading file: {file_name}\")\n",
    "    print(\n",
    "        f\"Destination: {download_path}\\n\"\n",
    "        f\"File: {file_name}\\n\"\n",
    "        f\"File Size: {pretty_file_size(total_size)}\\n\"\n",
    "        f\"Downloaded Size: {pretty_file_size(os.path.getsize(download_path))}\\n\"\n",
    "    )\n",
    "\n",
    "    return download_path"
   ]
  },
  {
   "cell_type": "markdown",
   "id": "8aa239b0-003f-4e4d-913b-e9b03534f3c4",
   "metadata": {},
   "source": [
    "## This notebook will focus on the collection of training data for the project based on our four areas of focus.\n",
    "\n",
    "Areas of focus:\n",
    " - Battery materials.\n",
    " - Photovoltaic materials.\n",
    " - Carbon capture.\n",
    " - Photocatalytic materials"
   ]
  },
  {
   "cell_type": "markdown",
   "id": "907171a4-4a36-412a-9e9e-fa16ccfae670",
   "metadata": {
    "jp-MarkdownHeadingCollapsed": true
   },
   "source": [
    "## A: Battery materials."
   ]
  },
  {
   "cell_type": "markdown",
   "id": "9aa0654f-8c2a-4abd-b17f-95e9ab41a2c1",
   "metadata": {},
   "source": [
    "#### 1. Materials Project"
   ]
  },
  {
   "cell_type": "code",
   "execution_count": 11,
   "id": "1c74fd8c-c93d-43d7-8648-eba8d0ff2945",
   "metadata": {},
   "outputs": [
    {
     "data": {
      "application/vnd.jupyter.widget-view+json": {
       "model_id": "dc83d6b3d94b4414bd64811d8f08ca17",
       "version_major": 2,
       "version_minor": 0
      },
      "text/plain": [
       "Retrieving SummaryDoc documents:   0%|          | 0/11206 [00:00<?, ?it/s]"
      ]
     },
     "metadata": {},
     "output_type": "display_data"
    }
   ],
   "source": [
    "## Get all materials that have an insertion_electrodes property (From battry materials MP page)\n",
    "## Only the MP material ID and the pretty formula\n",
    "with MPRester(MPKEY) as mpr:\n",
    "    docs = mpr.materials.summary.search(\n",
    "        has_props = [HasProps.insertion_electrodes],\n",
    "        fields = [\"material_id\", \"formula_pretty\"]\n",
    "    )"
   ]
  },
  {
   "cell_type": "code",
   "execution_count": 91,
   "id": "b92506ea-6fed-4069-833b-9e52d6eb3dcb",
   "metadata": {},
   "outputs": [
    {
     "name": "stdout",
     "output_type": "stream",
     "text": [
      "['builder_meta', 'nsites', 'elements', 'nelements', 'composition', 'composition_reduced', 'formula_anonymous', 'chemsys', 'volume', 'density', 'density_atomic', 'symmetry', 'property_name', 'deprecated', 'deprecation_reasons', 'last_updated', 'origins', 'warnings', 'structure', 'task_ids', 'uncorrected_energy_per_atom', 'energy_per_atom', 'formation_energy_per_atom', 'energy_above_hull', 'is_stable', 'equilibrium_reaction_energy_per_atom', 'decomposes_to', 'xas', 'grain_boundaries', 'band_gap', 'cbm', 'vbm', 'efermi', 'is_gap_direct', 'is_metal', 'es_source_calc_id', 'bandstructure', 'dos', 'dos_energy_up', 'dos_energy_down', 'is_magnetic', 'ordering', 'total_magnetization', 'total_magnetization_normalized_vol', 'total_magnetization_normalized_formula_units', 'num_magnetic_sites', 'num_unique_magnetic_sites', 'types_of_magnetic_species', 'bulk_modulus', 'shear_modulus', 'universal_anisotropy', 'homogeneous_poisson', 'e_total', 'e_ionic', 'e_electronic', 'n', 'e_ij_max', 'weighted_surface_energy_EV_PER_ANG2', 'weighted_surface_energy', 'weighted_work_function', 'surface_anisotropy', 'shape_factor', 'has_reconstructed', 'possible_species', 'has_props', 'theoretical', 'database_IDs']\n"
     ]
    }
   ],
   "source": [
    "## Print out all the possible properties we can query but did not\n",
    "print(docs[0].fields_not_requested)"
   ]
  },
  {
   "cell_type": "code",
   "execution_count": 102,
   "id": "de926ce8-84bb-4ad3-a754-311e27fc2781",
   "metadata": {},
   "outputs": [
    {
     "data": {
      "text/plain": [
       "['V3OF11', 'Li5Mn2Ni3O10', 'MgV2O4', 'LiLa4NiO8', 'Li7Cr2O8']"
      ]
     },
     "execution_count": 102,
     "metadata": {},
     "output_type": "execute_result"
    }
   ],
   "source": [
    "## Get some 5 random materials\n",
    "random_materials = random.choices(docs, k=5)\n",
    "[m.formula_pretty for m in random_materials]"
   ]
  },
  {
   "cell_type": "code",
   "execution_count": 103,
   "id": "b1895ddf-f5c0-4114-920d-b6190fa4b8e0",
   "metadata": {},
   "outputs": [
    {
     "name": "stdout",
     "output_type": "stream",
     "text": [
      "Found 11,206 battery materials from the Materials project DB\n"
     ]
    }
   ],
   "source": [
    "print(f\"Found {len(docs):,} battery materials from the Materials project DB\")"
   ]
  },
  {
   "cell_type": "markdown",
   "id": "a7fa6b58-22ba-4df8-8e58-9764f8bf0127",
   "metadata": {
    "jp-MarkdownHeadingCollapsed": true
   },
   "source": [
    "#### 2. ChemDataExtractor Data"
   ]
  },
  {
   "cell_type": "markdown",
   "id": "40a30c18-e5bb-46ad-9159-6c51217969d6",
   "metadata": {},
   "source": [
    "A database of battery materials auto-generated using ChemDataExtractor.\n",
    "\n",
    " > Listed from [this](https://www.nature.com/articles/s41597-020-00602-2) paper.\n",
    "\n",
    "The dataset includes materials extraced from academic papers that are related to energy storage.\n",
    "\n",
    "The dataset has the following properties extracted/scraped:\n",
    " - Conductivity [CentiMeter^(-1.0)  Siemens^(1.0)]\n",
    " - Coulombic Efficiency [Percent^(1.0)]\n",
    " - Voltage [Volt^(1.0)]\n",
    " - Capacity [Ampere^(1.0)  Hour^(1.0)  KiloGram^(-1.0)]\n",
    " - Energy [KiloGram^(-1.0)  WattHour^(1.0)]"
   ]
  },
  {
   "cell_type": "code",
   "execution_count": 108,
   "id": "ee32ec4d-c9f6-47a2-9f24-9ef60ce4e6b2",
   "metadata": {},
   "outputs": [
    {
     "name": "stdout",
     "output_type": "stream",
     "text": [
      "File of the same size as remote file already exists and overwrite is set to False\n",
      "Skipping Download...\n"
     ]
    }
   ],
   "source": [
    "## Download the batabase archive file\n",
    "url = \"https://figshare.com/ndownloader/files/22789760\"\n",
    "battery_data_zip_file_path = download_file(url, 'battery_data.zip')"
   ]
  },
  {
   "cell_type": "code",
   "execution_count": 124,
   "id": "457e69ec-48c8-42b1-9863-12c54ff91a81",
   "metadata": {},
   "outputs": [
    {
     "name": "stdout",
     "output_type": "stream",
     "text": [
      "Finished extracting files to: /home/alen/projects/Inverse-Design-of-Materials-with-AI/tmp/battery_data\n"
     ]
    }
   ],
   "source": [
    "## Extract the data from the zip archive\n",
    "extracted_chem_data_path = unzip(battery_data_zip_file_path)"
   ]
  },
  {
   "cell_type": "code",
   "execution_count": 133,
   "id": "2f77e506-45ff-4a87-96dd-54c553cdffe2",
   "metadata": {},
   "outputs": [],
   "source": [
    "## Get the data\n",
    "with open(os.path.join(extracted_chem_data_path, 'battery_merged.json')) as batt_data_1_fo:\n",
    "    chem_extractor_data = json.load(batt_data_1_fo)"
   ]
  },
  {
   "cell_type": "code",
   "execution_count": 152,
   "id": "41be8d22-8b7f-4c8f-89ab-479b3b2f6780",
   "metadata": {
    "editable": true,
    "slideshow": {
     "slide_type": ""
    },
    "tags": []
   },
   "outputs": [
    {
     "name": "stdout",
     "output_type": "stream",
     "text": [
      "Data type: <class 'list'>\n",
      "Number of materials extracted: 214,617\n",
      "Example data: {'Property': 'Capacity', 'Name': 'Ge / C', 'Value': '1553.0', 'Raw_unit': 'mAhg−1', 'Raw_value': '1553 and 1041', 'Unit': 'Gram^(-1.0)  Hour^(1.0)  MilliAmpere^(1.0)', 'Num_records': 1, 'Extracted_name': \"[{'Ge': '1.0'}, {'C': '1.0'}]\", 'DOI': '10.1039/C6NR00937A', 'Specifier': 'discharge and charge capacities, ', 'Tag': 'CDE', 'Warning': 'None', 'Type': 'None', 'Info': 'None', 'Title': 'Rational synthesis of carbon-coated hollow Ge nanocrystals with enhanced lithium-storage properties  ', 'Journal': 'Nanoscale', 'Date': '2016/06/16', 'Correctness': 'None'}\n"
     ]
    }
   ],
   "source": [
    "print(f\"Data type: {type(chem_extractor_data)}\")\n",
    "print(f\"Number of materials extracted: {len(chem_extractor_data):,}\")\n",
    "print(f\"Example data: {random.choice(chem_extractor_data)}\")"
   ]
  },
  {
   "cell_type": "markdown",
   "id": "461db646-fff0-4b02-9ab2-ae9d03493802",
   "metadata": {
    "jp-MarkdownHeadingCollapsed": true
   },
   "source": [
    "## B: Carbon capture materials."
   ]
  },
  {
   "cell_type": "markdown",
   "id": "2343636d-9a8d-488e-a83c-bedc3f14e0d9",
   "metadata": {},
   "source": [
    "[ref](https://www.sciencedirect.com/science/article/pii/S2589234723001690) Generally, the most widely used solid materials for CO2 capture are silica, zeolites, alumina, amine-based materials, metal oxides, metal-organic frameworks (MOFs), polymers, and carbon materials (activated carbon, graphite, graphene, fullerene, carbon nanotubes, biochar, and hydrochar)."
   ]
  },
  {
   "cell_type": "markdown",
   "id": "d4dad2f1-e850-4c9b-aaa6-c2bcc9cec23a",
   "metadata": {
    "jp-MarkdownHeadingCollapsed": true
   },
   "source": [
    "#### 1. [CCDC](https://www.ccdc.cam.ac.uk/) - MOFs"
   ]
  },
  {
   "cell_type": "markdown",
   "id": "a11a4342-8041-415e-85e4-8932a7e6df08",
   "metadata": {},
   "source": [
    "The dataset was downloaded from The Cambridge Crystallographic Data Centre website.\n",
    "\n",
    "The dataset is of metal-organic frameworks (MOFs).\n",
    "\n",
    "The dataset archive was manually downloaded and uploaded to this project's working directory as an account is required to download the data from the CCDC website.\n",
    "\n",
    "The dataset archive has been repackaged and can be downloaded [here](http://197.137.67.2:7010/files/Inverse-Design-of-Materials-with-AI/tmp/csd_mof_collection.zip?_xsrf=2%7C1aa66def%7C52e4121104952bacf3ace88923de87a4%7C1722332477)"
   ]
  },
  {
   "cell_type": "code",
   "execution_count": 240,
   "id": "1ec2c18a-4a08-4091-9355-299850f83005",
   "metadata": {},
   "outputs": [
    {
     "name": "stdout",
     "output_type": "stream",
     "text": [
      "Number of cif files: 10,636\n",
      "Other files in the collection:\n",
      "\t - 00_README.txt\n",
      "\t - Charged frameworks.csv\n",
      "\t - Framework details.csv\n",
      "\t - Frameworks with hydrogen added.csv\n",
      "\t - Suspect chemistry frameworks.csv\n",
      "Sample of cif files:\n",
      "\t - uxiqoj_P1.cif\n",
      "\t - navjaw_P1.cif\n",
      "\t - udiwuc_P1.cif\n",
      "\t - isikif_P1_H.cif\n",
      "\t - huwluj_P1_charged.cif\n"
     ]
    }
   ],
   "source": [
    "## Assuming the zip file is downloaded and extracted, get the CCDC MOF data.\n",
    "csd_mof_file_path = os.path.join(ROOT_DIR, \"tmp/csd_mof_collection\")\n",
    "\n",
    "# Get all the cif files in the collection\n",
    "csd_mof_cif_collection = [f for f in os.listdir(csd_mof_file_path) if '.cif' in f]\n",
    "other_files = [f for f in os.listdir(csd_mof_file_path) if '.cif' not in f]\n",
    "\n",
    "# List the collection stats\n",
    "print(f\"Number of cif files: {len(csd_mof_cif_collection):,}\")\n",
    "print(f\"Other files in the collection:\")\n",
    "for f in sorted(other_files): print(f\"\\t - {f}\")\n",
    "print(f\"Sample of cif files:\")\n",
    "for f in random.sample(csd_mof_cif_collection, 5): print(f\"\\t - {f}\")"
   ]
  },
  {
   "cell_type": "markdown",
   "id": "434cbef0-836c-4604-81de-01f46a902dff",
   "metadata": {},
   "source": [
    "#### 2. "
   ]
  },
  {
   "cell_type": "code",
   "execution_count": null,
   "id": "47df1b27-1c7f-49aa-8d84-c328eb3edff4",
   "metadata": {},
   "outputs": [],
   "source": []
  }
 ],
 "metadata": {
  "kernelspec": {
   "display_name": "InverseDesign1",
   "language": "python",
   "name": "inversedesign1"
  },
  "language_info": {
   "codemirror_mode": {
    "name": "ipython",
    "version": 3
   },
   "file_extension": ".py",
   "mimetype": "text/x-python",
   "name": "python",
   "nbconvert_exporter": "python",
   "pygments_lexer": "ipython3",
   "version": "3.10.12"
  }
 },
 "nbformat": 4,
 "nbformat_minor": 5
}

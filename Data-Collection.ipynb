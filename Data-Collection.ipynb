{
 "cells": [
  {
   "cell_type": "markdown",
   "id": "8aa239b0-003f-4e4d-913b-e9b03534f3c4",
   "metadata": {},
   "source": [
    "## This notebook will focus on the collection of training data for the project based on our four areas of focus.\n",
    "\n",
    "Areas of focus:\n",
    " - Battery materials.\n",
    " - Photovoltaic materials.\n",
    " - Carbon capture.\n",
    " - Photocatalytic materials"
   ]
  },
  {
   "cell_type": "markdown",
   "id": "907171a4-4a36-412a-9e9e-fa16ccfae670",
   "metadata": {},
   "source": [
    "## A: Battery materials."
   ]
  },
  {
   "cell_type": "code",
   "execution_count": null,
   "id": "b0732a73-9678-4b64-91ee-2cb68b645e2e",
   "metadata": {},
   "outputs": [],
   "source": []
  },
  {
   "cell_type": "code",
   "execution_count": null,
   "id": "0f3a4fc6-11d4-4ec3-a184-f71dd1df4858",
   "metadata": {},
   "outputs": [],
   "source": []
  }
 ],
 "metadata": {
  "kernelspec": {
   "display_name": "InverseDesign1",
   "language": "python",
   "name": "inversedesign1"
  },
  "language_info": {
   "codemirror_mode": {
    "name": "ipython",
    "version": 3
   },
   "file_extension": ".py",
   "mimetype": "text/x-python",
   "name": "python",
   "nbconvert_exporter": "python",
   "pygments_lexer": "ipython3",
   "version": "3.10.12"
  }
 },
 "nbformat": 4,
 "nbformat_minor": 5
}
